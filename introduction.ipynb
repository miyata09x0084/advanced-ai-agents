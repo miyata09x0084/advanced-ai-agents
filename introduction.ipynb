{
 "cells": [
  {
   "cell_type": "markdown",
   "metadata": {},
   "source": [
    "# Advanced AI Agents\n",
    "\n",
    "## Preparation Steps\n",
    "\n",
    "### Step 1: Setup API Key\n",
    "\n",
    "Set up an API Key with OpenAI. Sign up for a paid account here: https://platform.openai.com/. You need at least a Tier 1 account. Once done, you can generate an API key. Save that key in a `.env` file in your root folder.\n",
    "\n",
    "### Step 2: Download the code\n",
    "\n",
    "Please download the folder at this link to get started: [Get Code](https://drive.google.com/drive/folders/1ik--Sx9n_RgbRoUSC67AV4NomG3vy1uk?usp=sharing)\n",
    "\n",
    "### Step 3: Setup the environment\n",
    "\n",
    "#### Conda\n",
    "\n",
    "If you don't have conda, you can install it [here](https://docs.conda.io/projects/conda/en/latest/user-guide/install/).\n",
    "\n",
    "Once installed, run the following command to create a new environment called `advanced-agents`. \n",
    "\n",
    "```sh\n",
    "conda create -n advanced-agents python=3.10\n",
    "```\n",
    "\n",
    "Next, activate the conda environment.\n",
    "\n",
    "```sh\n",
    "conda activate advanced-agents\n",
    "```\n",
    "\n",
    "#### Python environment\n",
    "\n",
    "If you don't want to use conda, you can create a virtual environment using Python's `venv` module.\n",
    "\n",
    "```sh\n",
    "python3 -m venv .venv\n",
    "```\n",
    "\n",
    "Next, activate your environment (the command below is for Linux)\n",
    "```sh\n",
    "source .venv/bin/activate\n",
    "```\n",
    "\n",
    "### Step 4: Install the packages\n",
    "\n",
    "Next, install the dependencies inside the `requirements.txt` file.\n",
    "\n",
    "```sh\n",
    "pip install -r requirements.txt\n",
    "```\n",
    "\n",
    "### Step 5: Getting Started\n",
    "\n",
    "Run the code below to test that everything is working as it should:\n"
   ]
  },
  {
   "cell_type": "code",
   "execution_count": 1,
   "metadata": {},
   "outputs": [],
   "source": [
    "# Importing libraries\n",
    "import openai\n",
    "import os\n",
    "from dotenv import load_dotenv\n",
    "\n",
    "# Loading environment variables\n",
    "load_dotenv()\n",
    "\n",
    "from openai import OpenAI\n",
    "client = OpenAI()"
   ]
  },
  {
   "cell_type": "code",
   "execution_count": 2,
   "metadata": {},
   "outputs": [
    {
     "name": "stdout",
     "output_type": "stream",
     "text": [
      "ChatCompletion(id='chatcmpl-BFpNelgB13PdL3bxFMFXuGhTXC9PZ', choices=[Choice(finish_reason='stop', index=0, logprobs=None, message=ChatCompletionMessage(content='The capital of France is Paris.', refusal=None, role='assistant', annotations=[], audio=None, function_call=None, tool_calls=None))], created=1743112126, model='gpt-4o-mini-2024-07-18', object='chat.completion', service_tier='default', system_fingerprint='fp_86d0290411', usage=CompletionUsage(completion_tokens=8, prompt_tokens=14, total_tokens=22, completion_tokens_details=CompletionTokensDetails(accepted_prediction_tokens=0, audio_tokens=0, reasoning_tokens=0, rejected_prediction_tokens=0), prompt_tokens_details=PromptTokensDetails(audio_tokens=0, cached_tokens=0)))\n"
     ]
    }
   ],
   "source": [
    "response = client.chat.completions.create(\n",
    "    model=\"gpt-4o-mini\",\n",
    "    messages=[\n",
    "        {\"role\": \"user\", \"content\": \"What is the capital of France?\"}\n",
    "    ]\n",
    ")\n",
    "\n",
    "print(response)"
   ]
  }
 ],
 "metadata": {
  "kernelspec": {
   "display_name": "advanced-agents",
   "language": "python",
   "name": "python3"
  },
  "language_info": {
   "codemirror_mode": {
    "name": "ipython",
    "version": 3
   },
   "file_extension": ".py",
   "mimetype": "text/x-python",
   "name": "python",
   "nbconvert_exporter": "python",
   "pygments_lexer": "ipython3",
   "version": "3.10.16"
  }
 },
 "nbformat": 4,
 "nbformat_minor": 2
}
